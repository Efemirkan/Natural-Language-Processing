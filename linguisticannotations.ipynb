{
 "cells": [
  {
   "cell_type": "code",
   "execution_count": 1,
   "id": "1f4b4cf7-7069-4f54-8e7d-c1ad16a04ab4",
   "metadata": {},
   "outputs": [],
   "source": [
    "import spacy"
   ]
  },
  {
   "cell_type": "code",
   "execution_count": 2,
   "id": "3c2f9b41-cc4e-4b8d-99f6-b1dfc563dc95",
   "metadata": {},
   "outputs": [],
   "source": [
    "nlp = spacy.load(\"en_core_web_sm\")"
   ]
  },
  {
   "cell_type": "code",
   "execution_count": 4,
   "id": "dd922164-670f-4887-b642-beb9ce509aca",
   "metadata": {},
   "outputs": [],
   "source": [
    "with open('data/wiki_us.txt', 'r') as file:\n",
    "    text = file.read()"
   ]
  },
  {
   "cell_type": "code",
   "execution_count": 5,
   "id": "af050462-4d0a-4158-9411-46d30747553e",
   "metadata": {},
   "outputs": [
    {
     "name": "stdout",
     "output_type": "stream",
     "text": [
      "The United States of America (U.S.A. or USA), commonly known as the United States (U.S. or US) or America, is a country primarily located in North America. It consists of 50 states, a federal district, five major unincorporated territories, 326 Indian reservations, and some minor possessions.[j] At 3.8 million square miles (9.8 million square kilometers), it is the world's third- or fourth-largest country by total area.[d] The United States shares significant land borders with Canada to the north and Mexico to the south, as well as limited maritime borders with the Bahamas, Cuba, and Russia.[22] With a population of more than 331 million people, it is the third most populous country in the world. The national capital is Washington, D.C., and the most populous city is New York.\n",
      "\n",
      "Paleo-Indians migrated from Siberia to the North American mainland at least 12,000 years ago, and European colonization began in the 16th century. The United States emerged from the thirteen British colonies established along the East Coast. Disputes over taxation and political representation with Great Britain led to the American Revolutionary War (1775â€“1783), which established independence. In the late 18th century, the U.S. began expanding across North America, gradually obtaining new territories, sometimes through war, frequently displacing Native Americans, and admitting new states; by 1848, the United States spanned the continent. Slavery was legal in the southern United States until the second half of the 19th century when the American Civil War led to its abolition. The Spanishâ€“American War and World War I established the U.S. as a world power, a status confirmed by the outcome of World War II.\n",
      "\n",
      "During the Cold War, the United States fought the Korean War and the Vietnam War but avoided direct military conflict with the Soviet Union. The two superpowers competed in the Space Race, culminating in the 1969 spaceflight that first landed humans on the Moon. The Soviet Union's dissolution in 1991 ended the Cold War, leaving the United States as the world's sole superpower.\n",
      "\n",
      "The United States is a federal republic and a representative democracy with three separate branches of government, including a bicameral legislature. It is a founding member of the United Nations, World Bank, International Monetary Fund, Organization of American States, NATO, and other international organizations. It is a permanent member of the United Nations Security Council. Considered a melting pot of cultures and ethnicities, its population has been profoundly shaped by centuries of immigration. The country ranks high in international measures of economic freedom, quality of life, education, and human rights, and has low levels of perceived corruption. However, the country has received criticism concerning inequality related to race, wealth and income, the use of capital punishment, high incarceration rates, and lack of universal health care.\n",
      "\n",
      "The United States is a highly developed country, accounts for approximately a quarter of global GDP, and is the world's largest economy. By value, the United States is the world's largest importer and the second-largest exporter of goods. Although its population is only 4.2% of the world's total, it holds 29.4% of the total wealth in the world, the largest share held by any country. Making up more than a third of global military spending, it is the foremost military power in the world; and it is a leading political, cultural, and scientific force internationally.[23]\n"
     ]
    }
   ],
   "source": [
    "print(text)"
   ]
  },
  {
   "cell_type": "markdown",
   "id": "34ce4386-ef75-4038-84e3-c181a1df60ee",
   "metadata": {},
   "source": [
    "### Work with Doc object"
   ]
  },
  {
   "cell_type": "code",
   "execution_count": 6,
   "id": "a5d549f1-a6a2-4257-af17-052fb644cd43",
   "metadata": {},
   "outputs": [],
   "source": [
    "doc = nlp(text)"
   ]
  },
  {
   "cell_type": "code",
   "execution_count": 7,
   "id": "bab82f97-8b94-413e-a2d5-63f89f3e714d",
   "metadata": {},
   "outputs": [
    {
     "name": "stdout",
     "output_type": "stream",
     "text": [
      "The United States of America (U.S.A. or USA), commonly known as the United States (U.S. or US) or America, is a country primarily located in North America. It consists of 50 states, a federal district, five major unincorporated territories, 326 Indian reservations, and some minor possessions.[j] At 3.8 million square miles (9.8 million square kilometers), it is the world's third- or fourth-largest country by total area.[d] The United States shares significant land borders with Canada to the north and Mexico to the south, as well as limited maritime borders with the Bahamas, Cuba, and Russia.[22] With a population of more than 331 million people, it is the third most populous country in the world. The national capital is Washington, D.C., and the most populous city is New York.\n",
      "\n",
      "Paleo-Indians migrated from Siberia to the North American mainland at least 12,000 years ago, and European colonization began in the 16th century. The United States emerged from the thirteen British colonies established along the East Coast. Disputes over taxation and political representation with Great Britain led to the American Revolutionary War (1775â€“1783), which established independence. In the late 18th century, the U.S. began expanding across North America, gradually obtaining new territories, sometimes through war, frequently displacing Native Americans, and admitting new states; by 1848, the United States spanned the continent. Slavery was legal in the southern United States until the second half of the 19th century when the American Civil War led to its abolition. The Spanishâ€“American War and World War I established the U.S. as a world power, a status confirmed by the outcome of World War II.\n",
      "\n",
      "During the Cold War, the United States fought the Korean War and the Vietnam War but avoided direct military conflict with the Soviet Union. The two superpowers competed in the Space Race, culminating in the 1969 spaceflight that first landed humans on the Moon. The Soviet Union's dissolution in 1991 ended the Cold War, leaving the United States as the world's sole superpower.\n",
      "\n",
      "The United States is a federal republic and a representative democracy with three separate branches of government, including a bicameral legislature. It is a founding member of the United Nations, World Bank, International Monetary Fund, Organization of American States, NATO, and other international organizations. It is a permanent member of the United Nations Security Council. Considered a melting pot of cultures and ethnicities, its population has been profoundly shaped by centuries of immigration. The country ranks high in international measures of economic freedom, quality of life, education, and human rights, and has low levels of perceived corruption. However, the country has received criticism concerning inequality related to race, wealth and income, the use of capital punishment, high incarceration rates, and lack of universal health care.\n",
      "\n",
      "The United States is a highly developed country, accounts for approximately a quarter of global GDP, and is the world's largest economy. By value, the United States is the world's largest importer and the second-largest exporter of goods. Although its population is only 4.2% of the world's total, it holds 29.4% of the total wealth in the world, the largest share held by any country. Making up more than a third of global military spending, it is the foremost military power in the world; and it is a leading political, cultural, and scientific force internationally.[23]\n"
     ]
    }
   ],
   "source": [
    "print(doc)"
   ]
  },
  {
   "cell_type": "code",
   "execution_count": 8,
   "id": "dc995767-8169-45bd-8106-97b7a54649d2",
   "metadata": {},
   "outputs": [
    {
     "name": "stdout",
     "output_type": "stream",
     "text": [
      "3525\n",
      "652\n"
     ]
    }
   ],
   "source": [
    "print(len(text))\n",
    "print(len(doc))"
   ]
  },
  {
   "cell_type": "code",
   "execution_count": 9,
   "id": "055bb7e3-2279-4cff-a214-dd6c0e4f4fdd",
   "metadata": {},
   "outputs": [
    {
     "name": "stdout",
     "output_type": "stream",
     "text": [
      "T\n",
      "h\n",
      "e\n",
      " \n",
      "U\n",
      "n\n",
      "i\n",
      "t\n",
      "e\n",
      "d\n"
     ]
    }
   ],
   "source": [
    "for token in text[:10]:\n",
    "    print(token)\n",
    "    "
   ]
  },
  {
   "cell_type": "code",
   "execution_count": 10,
   "id": "1e8a65ab-1b96-4fcb-a7cc-dead15dc1830",
   "metadata": {},
   "outputs": [
    {
     "name": "stdout",
     "output_type": "stream",
     "text": [
      "The\n",
      "United\n",
      "States\n",
      "of\n",
      "America\n",
      "(\n",
      "U.S.A.\n",
      "or\n",
      "USA\n",
      ")\n"
     ]
    }
   ],
   "source": [
    "for token in doc[:10]:\n",
    "    print(token)"
   ]
  },
  {
   "cell_type": "markdown",
   "id": "4b3a1ef4-b3d5-418d-8f10-66549ff7e107",
   "metadata": {},
   "source": [
    "This is why the doc object so more valuable. The text object is basically counting up every instance of character whitespaces, punctuations etc.\n",
    "the doc object is counting individual tokens words punctuations etc. "
   ]
  },
  {
   "cell_type": "code",
   "execution_count": 11,
   "id": "a154ce5a-edfc-4537-8a5d-3222040d9e67",
   "metadata": {},
   "outputs": [
    {
     "name": "stdout",
     "output_type": "stream",
     "text": [
      "The\n",
      "United\n",
      "States\n",
      "of\n",
      "America\n",
      "(U.S.A.\n",
      "or\n",
      "USA),\n",
      "commonly\n",
      "known\n"
     ]
    }
   ],
   "source": [
    "for token in text.split()[:10]:\n",
    "    print(token)"
   ]
  },
  {
   "cell_type": "markdown",
   "id": "1261ad39-3113-40bf-96a3-18cf7d369b03",
   "metadata": {},
   "source": [
    "Problem: this method split by whitespaces. Despite with doc object we reach the individual tokens"
   ]
  },
  {
   "cell_type": "markdown",
   "id": "2bb7bb6f-62d1-4338-accf-fd702c4fc0d9",
   "metadata": {},
   "source": [
    "### Sentence Boundary Detection(SBD)"
   ]
  },
  {
   "cell_type": "markdown",
   "id": "c95c69f4-5a2b-4775-9203-e5c19099ef8d",
   "metadata": {},
   "source": [
    "Identification of sentences within a text"
   ]
  },
  {
   "cell_type": "code",
   "execution_count": 13,
   "id": "0112322d-6df2-4ca0-8bfd-47e695aba1bc",
   "metadata": {},
   "outputs": [
    {
     "name": "stdout",
     "output_type": "stream",
     "text": [
      "The United States of America (U.S.A. or USA), commonly known as the United States (U.S. or US) or America, is a country primarily located in North America.\n",
      "It consists of 50 states, a federal district, five major unincorporated territories, 326 Indian reservations, and some minor possessions.[j]\n",
      "At 3.8 million square miles (9.8 million square kilometers), it is the world's third- or fourth-largest country by total area.[d]\n",
      "The United States shares significant land borders with Canada to the north and Mexico to the south, as well as limited maritime borders with the Bahamas, Cuba, and Russia.[22]\n",
      "With a population of more than 331 million people, it is the third most populous country in the world.\n",
      "The national capital is Washington, D.C., and the most populous city is New York.\n",
      "\n",
      "\n",
      "Paleo-Indians migrated from Siberia to the North American mainland at least 12,000 years ago, and European colonization began in the 16th century.\n",
      "The United States emerged from the thirteen British colonies established along the East Coast.\n",
      "Disputes over taxation and political representation with Great Britain led to the American Revolutionary War (1775â€“1783), which established independence.\n",
      "In the late 18th century, the U.S. began expanding across North America, gradually obtaining new territories, sometimes through war, frequently displacing Native Americans, and admitting new states; by 1848, the United States spanned the continent.\n",
      "Slavery was legal in the southern United States until the second half of the 19th century when the American Civil War led to its abolition.\n",
      "The Spanishâ€“American War and World War I established the U.S. as a world power, a status confirmed by the outcome of World War II.\n",
      "\n",
      "\n",
      "During the Cold War, the United States fought the Korean War and the Vietnam War but avoided direct military conflict with the Soviet Union.\n",
      "The two superpowers competed in the Space Race, culminating in the 1969 spaceflight that first landed humans on the Moon.\n",
      "The Soviet Union's dissolution in 1991 ended the Cold War, leaving the United States as the world's sole superpower.\n",
      "\n",
      "\n",
      "The United States is a federal republic and a representative democracy with three separate branches of government, including a bicameral legislature.\n",
      "It is a founding member of the United Nations, World Bank, International Monetary Fund, Organization of American States, NATO, and other international organizations.\n",
      "It is a permanent member of the United Nations Security Council.\n",
      "Considered a melting pot of cultures and ethnicities, its population has been profoundly shaped by centuries of immigration.\n",
      "The country ranks high in international measures of economic freedom, quality of life, education, and human rights, and has low levels of perceived corruption.\n",
      "However, the country has received criticism concerning inequality related to race, wealth and income, the use of capital punishment, high incarceration rates, and lack of universal health care.\n",
      "\n",
      "\n",
      "The United States is a highly developed country, accounts for approximately a quarter of global GDP, and is the world's largest economy.\n",
      "By value, the United States is the world's largest importer and the second-largest exporter of goods.\n",
      "Although its population is only 4.2% of the world's total, it holds 29.4% of the total wealth in the world, the largest share held by any country.\n",
      "Making up more than a third of global military spending, it is the foremost military power in the world; and it is a leading political, cultural, and scientific force internationally.[23]\n"
     ]
    }
   ],
   "source": [
    "# Grabbing to sents attribute of the doc object\n",
    "for sent in doc.sents:\n",
    "    print(sent)"
   ]
  },
  {
   "cell_type": "markdown",
   "id": "6b36a88c-49c2-413b-8e8f-2441aa1ec5a5",
   "metadata": {},
   "source": [
    "#### Important:\n",
    "\"en_core_web_sm\" pipeline does not save word vectors and larger pipeline go with the models typically better to going to have with regards to sentence detection."
   ]
  },
  {
   "cell_type": "code",
   "execution_count": 15,
   "id": "779a54d3-b879-433f-9a7c-a8c58c0eb00d",
   "metadata": {},
   "outputs": [
    {
     "ename": "TypeError",
     "evalue": "'generator' object is not subscriptable",
     "output_type": "error",
     "traceback": [
      "\u001b[1;31m---------------------------------------------------------------------------\u001b[0m",
      "\u001b[1;31mTypeError\u001b[0m                                 Traceback (most recent call last)",
      "Cell \u001b[1;32mIn[15], line 2\u001b[0m\n\u001b[0;32m      1\u001b[0m \u001b[38;5;66;03m# Accessing sentence\u001b[39;00m\n\u001b[1;32m----> 2\u001b[0m sentence1 \u001b[38;5;241m=\u001b[39m \u001b[43mdoc\u001b[49m\u001b[38;5;241;43m.\u001b[39;49m\u001b[43msents\u001b[49m\u001b[43m[\u001b[49m\u001b[38;5;241;43m0\u001b[39;49m\u001b[43m]\u001b[49m\n",
      "\u001b[1;31mTypeError\u001b[0m: 'generator' object is not subscriptable"
     ]
    }
   ],
   "source": [
    "# Accessing sentence\n",
    "sentence1 = doc.sents[0]"
   ]
  },
  {
   "cell_type": "markdown",
   "id": "ae83ce09-c5c0-4205-838d-b3365682c0ee",
   "metadata": {},
   "source": [
    "#### Important:\n",
    "'generator' object is not subscriptable,\n",
    "\n",
    "doc.sents object is not iterable we need to convert it to a list.\n"
   ]
  },
  {
   "cell_type": "code",
   "execution_count": 16,
   "id": "60973dc2-ece0-4797-b128-8b8d7be8f054",
   "metadata": {},
   "outputs": [
    {
     "name": "stdout",
     "output_type": "stream",
     "text": [
      "The United States of America (U.S.A. or USA), commonly known as the United States (U.S. or US) or America, is a country primarily located in North America.\n"
     ]
    }
   ],
   "source": [
    "sentence1 = list(doc.sents)[0]\n",
    "print(sentence1)\n"
   ]
  },
  {
   "cell_type": "markdown",
   "id": "363291c3-689f-48e7-8000-98d0dc9c842b",
   "metadata": {},
   "source": [
    "### Token Attributes"
   ]
  },
  {
   "cell_type": "markdown",
   "id": "33689ec4-cf57-4706-8c7f-cb9474de7e5e",
   "metadata": {},
   "source": [
    "* .text\n",
    "* .head\n",
    "* .left_edge\n",
    "* .right_edge\n",
    "* .ent_type_\n",
    "* .iob_\n",
    "* .lemma_\n",
    "* .morph\n",
    "* .pos_\n",
    "* .den_\n",
    "* .lang_"
   ]
  },
  {
   "cell_type": "code",
   "execution_count": 18,
   "id": "627aed48-83bc-47bd-9c3e-2e7d6cf19325",
   "metadata": {},
   "outputs": [
    {
     "name": "stdout",
     "output_type": "stream",
     "text": [
      "The\n",
      "United\n",
      "States\n",
      "of\n",
      "America\n",
      "(\n",
      "U.S.A.\n",
      "or\n",
      "USA\n",
      ")\n"
     ]
    }
   ],
   "source": [
    "for token in doc[:10]:\n",
    "    print(token)"
   ]
  },
  {
   "cell_type": "code",
   "execution_count": 19,
   "id": "8171d7f7-ef7e-4313-a742-6689e494f8d3",
   "metadata": {},
   "outputs": [
    {
     "name": "stdout",
     "output_type": "stream",
     "text": [
      "States\n"
     ]
    }
   ],
   "source": [
    "token_2 = doc[2]\n",
    "print(token_2)"
   ]
  },
  {
   "cell_type": "markdown",
   "id": "b8cfdb34-0938-499e-8310-a065abbd4b75",
   "metadata": {},
   "source": [
    "##### .text \n",
    "It will return a raw string value."
   ]
  },
  {
   "cell_type": "code",
   "execution_count": 20,
   "id": "e9f4c63e-fb0b-449b-8c89-46e1b09ec2d5",
   "metadata": {},
   "outputs": [
    {
     "data": {
      "text/plain": [
       "'States'"
      ]
     },
     "execution_count": 20,
     "metadata": {},
     "output_type": "execute_result"
    }
   ],
   "source": [
    "token_2.text"
   ]
  },
  {
   "cell_type": "markdown",
   "id": "c8de8d83-1b08-4d9b-b04b-7dd928d3d4ef",
   "metadata": {},
   "source": [
    "##### .left_edge , .right_edge\n",
    "If there exists a multi-word token, i.e., contains a collective meaning then we can use the left_edge property to find the Start of the multi-word token, and the right_edge to find the end of the multi-word token."
   ]
  },
  {
   "cell_type": "code",
   "execution_count": 26,
   "id": "57ee1182-211d-45c4-bc38-6851e5916062",
   "metadata": {},
   "outputs": [
    {
     "data": {
      "text/plain": [
       "(The, America)"
      ]
     },
     "execution_count": 26,
     "metadata": {},
     "output_type": "execute_result"
    }
   ],
   "source": [
    "# The United States of America\n",
    "token_2.left_edge, token_2.right_edge"
   ]
  },
  {
   "cell_type": "markdown",
   "id": "5e3927d2-0149-4a03-a08c-88e10c280cc2",
   "metadata": {},
   "source": [
    "##### . ent_type , .ent_type_"
   ]
  },
  {
   "cell_type": "markdown",
   "id": "0a9f74a8-c405-4893-bf72-82c2236f8026",
   "metadata": {},
   "source": [
    "Gives type of entity , corresponding number or string"
   ]
  },
  {
   "cell_type": "code",
   "execution_count": 28,
   "id": "4884ba16-3adf-4a30-96c9-0c67d6681c49",
   "metadata": {},
   "outputs": [
    {
     "data": {
      "text/plain": [
       "384"
      ]
     },
     "execution_count": 28,
     "metadata": {},
     "output_type": "execute_result"
    }
   ],
   "source": [
    "token_2.ent_type"
   ]
  },
  {
   "cell_type": "code",
   "execution_count": 29,
   "id": "8fbd988c-8b3d-464f-b494-5890e0beb2fb",
   "metadata": {},
   "outputs": [
    {
     "data": {
      "text/plain": [
       "'GPE'"
      ]
     },
     "execution_count": 29,
     "metadata": {},
     "output_type": "execute_result"
    }
   ],
   "source": [
    "token_2.ent_type_"
   ]
  },
  {
   "cell_type": "markdown",
   "id": "65a6446d-1ebb-494a-92ea-301684f44c94",
   "metadata": {},
   "source": [
    "'GPE' ------> Geopolitical entity"
   ]
  },
  {
   "cell_type": "markdown",
   "id": "7444dec6-ea72-4ee1-bd72-b8baf38d4897",
   "metadata": {},
   "source": [
    "##### .ent_iob_"
   ]
  },
  {
   "cell_type": "markdown",
   "id": "852132bf-484b-4dd1-bfc4-22cb6389f4bc",
   "metadata": {},
   "source": [
    "'b' beginning of entity, 'o' means outside of entity, 'i' means inside of entity\n",
    "\n",
    "is it part of larger entity?"
   ]
  },
  {
   "cell_type": "code",
   "execution_count": 41,
   "id": "3c19b92f-5ff2-4f75-9998-8867e4315025",
   "metadata": {},
   "outputs": [
    {
     "data": {
      "text/plain": [
       "('I', 1)"
      ]
     },
     "execution_count": 41,
     "metadata": {},
     "output_type": "execute_result"
    }
   ],
   "source": [
    "token_2.ent_iob_ , token_2.ent_iob"
   ]
  },
  {
   "cell_type": "code",
   "execution_count": 39,
   "id": "c6247e7e-d205-45f0-9ee0-3fd74fd6fd78",
   "metadata": {},
   "outputs": [
    {
     "name": "stdout",
     "output_type": "stream",
     "text": [
      "The United (\n"
     ]
    }
   ],
   "source": [
    "token_3 = doc[0]\n",
    "token_4 = doc[1]\n",
    "token_5 = doc[5]\n",
    "print(token_3, token_4, token_5)"
   ]
  },
  {
   "cell_type": "code",
   "execution_count": 42,
   "id": "742609d9-2138-4d30-8499-e6e3417c4c81",
   "metadata": {},
   "outputs": [
    {
     "data": {
      "text/plain": [
       "('B', 'O')"
      ]
     },
     "execution_count": 42,
     "metadata": {},
     "output_type": "execute_result"
    }
   ],
   "source": [
    "token_3.ent_iob_ ,token_5.ent_iob_"
   ]
  },
  {
   "cell_type": "code",
   "execution_count": 43,
   "id": "adfed289-9cd1-4763-acb4-6a2dbaceb0d5",
   "metadata": {},
   "outputs": [
    {
     "data": {
      "text/plain": [
       "(3, 2)"
      ]
     },
     "execution_count": 43,
     "metadata": {},
     "output_type": "execute_result"
    }
   ],
   "source": [
    "token_3.ent_iob ,token_5.ent_iob"
   ]
  },
  {
   "cell_type": "markdown",
   "id": "b00d0abb-c636-45f8-869e-9232b1e2cbc3",
   "metadata": {},
   "source": [
    "##### .lemma_"
   ]
  },
  {
   "cell_type": "markdown",
   "id": "374dae36-20a1-427a-936e-fad697f03cfe",
   "metadata": {},
   "source": [
    "the lemma form , root form of entity."
   ]
  },
  {
   "cell_type": "code",
   "execution_count": 47,
   "id": "03271e83-f627-44fc-aac0-906ffbac0e2b",
   "metadata": {},
   "outputs": [
    {
     "data": {
      "text/plain": [
       "'know'"
      ]
     },
     "execution_count": 47,
     "metadata": {},
     "output_type": "execute_result"
    }
   ],
   "source": [
    "token_6 = doc[12] # written as knowm in doc\n",
    "token_6.lemma_"
   ]
  },
  {
   "cell_type": "markdown",
   "id": "bb1df719-fe73-402b-a0bd-12cc449f9a6f",
   "metadata": {},
   "source": [
    "##### .morph"
   ]
  },
  {
   "cell_type": "markdown",
   "id": "0e6412e4-7c64-4245-b5a6-c07af7fb16b2",
   "metadata": {},
   "source": [
    "###### will be very useful\n",
    "\n",
    "when creating rules, to extract information find those pieces of informations for writing rules\n"
   ]
  },
  {
   "cell_type": "markdown",
   "id": "6a165972-2a49-4f3b-8ace-76a824fda269",
   "metadata": {},
   "source": [
    "it gives morphological analysis, what is this word morphologically"
   ]
  },
  {
   "cell_type": "code",
   "execution_count": 52,
   "id": "527f4374-3488-481b-a902-bb49214969d0",
   "metadata": {},
   "outputs": [
    {
     "data": {
      "text/plain": [
       "('States',\n",
       " Number=Sing,\n",
       " 'The',\n",
       " Definite=Def|PronType=Art,\n",
       " 'United',\n",
       " Number=Sing,\n",
       " '(',\n",
       " PunctSide=Ini|PunctType=Brck)"
      ]
     },
     "execution_count": 52,
     "metadata": {},
     "output_type": "execute_result"
    }
   ],
   "source": [
    "token_2.text, token_2.morph,token_3.text, token_3.morph,token_4.text, token_4.morph,token_5.text, token_5.morph"
   ]
  },
  {
   "cell_type": "code",
   "execution_count": 55,
   "id": "bd0fe6e9-5c18-473c-b3ed-47b0ad78c048",
   "metadata": {},
   "outputs": [
    {
     "name": "stdout",
     "output_type": "stream",
     "text": [
      "miles\n"
     ]
    }
   ],
   "source": [
    "sentence2 = list(doc.sents)[2]\n",
    "token_7 = sentence2[4]\n",
    "print(token_7)"
   ]
  },
  {
   "cell_type": "code",
   "execution_count": 56,
   "id": "97dd8fb3-6bfe-4f97-bc2d-38ba5ef66266",
   "metadata": {},
   "outputs": [
    {
     "data": {
      "text/plain": [
       "Number=Plur"
      ]
     },
     "execution_count": 56,
     "metadata": {},
     "output_type": "execute_result"
    }
   ],
   "source": [
    "token_7.morph"
   ]
  },
  {
   "cell_type": "markdown",
   "id": "0c6a0b2c-709e-4b96-afc7-e13ae9ec695e",
   "metadata": {},
   "source": [
    "Number=Sing,\n",
    "Number=Plur"
   ]
  },
  {
   "cell_type": "code",
   "execution_count": 60,
   "id": "e90c9b4b-1301-4a15-a850-feba1743a643",
   "metadata": {},
   "outputs": [
    {
     "data": {
      "text/plain": [
       "('shares', Number=Sing|Person=3|Tense=Pres|VerbForm=Fin)"
      ]
     },
     "execution_count": 60,
     "metadata": {},
     "output_type": "execute_result"
    }
   ],
   "source": [
    "sentence3 = list(doc.sents)[3]\n",
    "token_8 = sentence3[3]\n",
    "token_8.text, token_8.morph"
   ]
  },
  {
   "cell_type": "markdown",
   "id": "34b60ebd-3c17-4b77-a2b5-98d203eae9e5",
   "metadata": {},
   "source": [
    "###### Person=3: \n",
    "This indicates that the token is in the third person. In the context of verbs, it means that the action is performed by someone or something other than the speaker (first person) or the listener (second person).\n",
    "\n",
    "###### Tense=Pres: \n",
    "This indicates that the tense of the token is present tense. It describes actions that are happening currently or regularly.\n",
    "\n",
    "###### VerbForm=Fin: \n",
    "This indicates that the token represents a finite verb form. Finite verbs are those that are inflected according to the grammatical features of person, number, tense, mood, and voice."
   ]
  },
  {
   "cell_type": "code",
   "execution_count": 62,
   "id": "40f6ba60-3ce2-4c93-8ad7-9627858db605",
   "metadata": {},
   "outputs": [
    {
     "data": {
      "text/plain": [
       "('known', Aspect=Perf|Tense=Past|VerbForm=Part)"
      ]
     },
     "execution_count": 62,
     "metadata": {},
     "output_type": "execute_result"
    }
   ],
   "source": [
    "sentence1[12].text, sentence1[12].morph"
   ]
  },
  {
   "cell_type": "markdown",
   "id": "63b55b3f-e9e3-4bf4-976f-f83ae8711f56",
   "metadata": {},
   "source": [
    "output: perfect pas particaple"
   ]
  },
  {
   "cell_type": "markdown",
   "id": "2fee7bef-2409-4455-aeee-ea39a3ba699e",
   "metadata": {},
   "source": [
    "##### .pos_"
   ]
  },
  {
   "cell_type": "markdown",
   "id": "06fd500a-6b83-41b3-8ee8-5567cb3bd2fe",
   "metadata": {},
   "source": [
    "we use the pos_ (Identify Part of Speech) command:\n",
    "\n",
    "token_2.pos_ will considered a proper noun. You may need to spend some time learning grammar rules because NLP does require grammar understanding."
   ]
  },
  {
   "cell_type": "code",
   "execution_count": 63,
   "id": "dcbcd438-1c7d-4346-a64c-a4c86a792a9f",
   "metadata": {},
   "outputs": [
    {
     "data": {
      "text/plain": [
       "'PROPN'"
      ]
     },
     "execution_count": 63,
     "metadata": {},
     "output_type": "execute_result"
    }
   ],
   "source": [
    "token_2.pos_"
   ]
  },
  {
   "cell_type": "markdown",
   "id": "3bea7ef1-5238-478b-b313-69a44219efdf",
   "metadata": {},
   "source": [
    "###### Some exaples\n",
    "\n",
    "* Noun (NOUN): A word that represents a person, place, thing, or idea.\n",
    "\r",
    "* \n",
    "Verb (VERB): A word that describes an action, occurrence, or state of bein\n",
    "* \r\n",
    "Adjective (ADJ): A word that modifies or describes a noun or pronou\n",
    "* Adverb (ADV): A word that modifies or describes a verb, adjective, or other adverb.\n",
    "* Pronoun (PRON): A word that replaces or substitutes for a noun or noun phrase.\n",
    "* Preposition (ADP): A word that shows the relationship between a noun or pronoun and other words in a sentence.\n",
    "* Conjunction (CONJ): A word that connects words, phrases, or clauses.\n",
    "* Determiner (DET): A word that introduces a noun and expresses reference to something specific or something that is not specifically identified.\n",
    "* Interjection (INTJ): A word or phrase that expresses emotion or exclamation.\n",
    "amation."
   ]
  },
  {
   "cell_type": "markdown",
   "id": "56904df7-918c-43d6-97f6-52eb26f230f3",
   "metadata": {},
   "source": [
    "##### ,dep_"
   ]
  },
  {
   "cell_type": "markdown",
   "id": "30f183ab-170a-4510-a557-f19e74c5659d",
   "metadata": {},
   "source": [
    "Dependency relation\n",
    "To check what role our selected token plays in the sentence"
   ]
  },
  {
   "cell_type": "code",
   "execution_count": 64,
   "id": "c2772b6c-4e54-4e87-ac51-bbcb2443a19c",
   "metadata": {},
   "outputs": [
    {
     "data": {
      "text/plain": [
       "'nsubj'"
      ]
     },
     "execution_count": 64,
     "metadata": {},
     "output_type": "execute_result"
    }
   ],
   "source": [
    "token_2.dep_"
   ]
  },
  {
   "cell_type": "markdown",
   "id": "2a3d096d-b7af-4cd0-b134-015b4c44fe20",
   "metadata": {},
   "source": [
    "* ROOT: The main/root word of the sentence.\n",
    "* nsubj: The subject of a verb.\n",
    "* dobj: The direct object of a verb.\n",
    "* attr: The attribute or complement of a verb.\n",
    "* prep: A prepositional modifier.\n",
    "* advcl: A dependent clause functioning as an adverbial modifier.\n",
    "* conj: A conjunct (word or phrase) that shares the same head word.\n",
    "* punct: Punctuation marks."
   ]
  },
  {
   "cell_type": "markdown",
   "id": "23d6b0ab-a902-43f6-adee-5fa02d613649",
   "metadata": {},
   "source": [
    "##### .lang_"
   ]
  },
  {
   "cell_type": "markdown",
   "id": "aad46a2c-1bbb-4398-8def-b102d1cd6f93",
   "metadata": {},
   "source": [
    "langueage of the doc object"
   ]
  },
  {
   "cell_type": "code",
   "execution_count": 66,
   "id": "3e29067d-80bd-48a6-b31a-55d49a575926",
   "metadata": {},
   "outputs": [
    {
     "data": {
      "text/plain": [
       "'en'"
      ]
     },
     "execution_count": 66,
     "metadata": {},
     "output_type": "execute_result"
    }
   ],
   "source": [
    "token_2.lang_"
   ]
  },
  {
   "cell_type": "markdown",
   "id": "bbec46ac-3e79-46de-9700-a3142a61319b",
   "metadata": {},
   "source": [
    "### Speech Tagging"
   ]
  },
  {
   "cell_type": "markdown",
   "id": "3df26298-f9bf-4d2b-8bb2-e20df683138f",
   "metadata": {},
   "source": [
    "detailed analsis of part of speech and dependency sparser how to analyse it"
   ]
  },
  {
   "cell_type": "code",
   "execution_count": 67,
   "id": "bdc8f42e-6d42-4da7-b490-8a5e0ba31ce0",
   "metadata": {},
   "outputs": [
    {
     "name": "stdout",
     "output_type": "stream",
     "text": [
      "Mike       PROPN      nsubj     \n",
      "enjoys     VERB       ROOT      \n",
      "playing    VERB       xcomp     \n",
      "football   NOUN       dobj      \n",
      ".          PUNCT      punct     \n"
     ]
    }
   ],
   "source": [
    "text = \"Mike enjoys playing football.\"\n",
    "doc2 = nlp(text)\n",
    "for token in doc2:\n",
    "    print(f\"{token.text:<10} {token.pos_:<10} {token.dep_:<10}\")"
   ]
  },
  {
   "cell_type": "markdown",
   "id": "7e995e3e-10b8-4197-8e61-aab8ce57a72c",
   "metadata": {},
   "source": [
    "We can see basic semantics of the sentence, visualize this information and how these words relate to one another"
   ]
  },
  {
   "cell_type": "code",
   "execution_count": 70,
   "id": "48620785-ffec-42e6-9d8f-1a22f486d593",
   "metadata": {},
   "outputs": [
    {
     "data": {
      "text/html": [
       "<span class=\"tex2jax_ignore\"><svg xmlns=\"http://www.w3.org/2000/svg\" xmlns:xlink=\"http://www.w3.org/1999/xlink\" xml:lang=\"en\" id=\"120d649de3ef427c960017c08c341d9e-0\" class=\"displacy\" width=\"750\" height=\"224.5\" direction=\"ltr\" style=\"max-width: none; height: 224.5px; color: #000000; background: #ffffff; font-family: Arial; direction: ltr\">\n",
       "<text class=\"displacy-token\" fill=\"currentColor\" text-anchor=\"middle\" y=\"134.5\">\n",
       "    <tspan class=\"displacy-word\" fill=\"currentColor\" x=\"50\">Mike</tspan>\n",
       "    <tspan class=\"displacy-tag\" dy=\"2em\" fill=\"currentColor\" x=\"50\">PROPN</tspan>\n",
       "</text>\n",
       "\n",
       "<text class=\"displacy-token\" fill=\"currentColor\" text-anchor=\"middle\" y=\"134.5\">\n",
       "    <tspan class=\"displacy-word\" fill=\"currentColor\" x=\"225\">enjoys</tspan>\n",
       "    <tspan class=\"displacy-tag\" dy=\"2em\" fill=\"currentColor\" x=\"225\">VERB</tspan>\n",
       "</text>\n",
       "\n",
       "<text class=\"displacy-token\" fill=\"currentColor\" text-anchor=\"middle\" y=\"134.5\">\n",
       "    <tspan class=\"displacy-word\" fill=\"currentColor\" x=\"400\">playing</tspan>\n",
       "    <tspan class=\"displacy-tag\" dy=\"2em\" fill=\"currentColor\" x=\"400\">VERB</tspan>\n",
       "</text>\n",
       "\n",
       "<text class=\"displacy-token\" fill=\"currentColor\" text-anchor=\"middle\" y=\"134.5\">\n",
       "    <tspan class=\"displacy-word\" fill=\"currentColor\" x=\"575\">football.</tspan>\n",
       "    <tspan class=\"displacy-tag\" dy=\"2em\" fill=\"currentColor\" x=\"575\">NOUN</tspan>\n",
       "</text>\n",
       "\n",
       "<g class=\"displacy-arrow\">\n",
       "    <path class=\"displacy-arc\" id=\"arrow-120d649de3ef427c960017c08c341d9e-0-0\" stroke-width=\"2px\" d=\"M70,89.5 C70,2.0 225.0,2.0 225.0,89.5\" fill=\"none\" stroke=\"currentColor\"/>\n",
       "    <text dy=\"1.25em\" style=\"font-size: 0.8em; letter-spacing: 1px\">\n",
       "        <textPath xlink:href=\"#arrow-120d649de3ef427c960017c08c341d9e-0-0\" class=\"displacy-label\" startOffset=\"50%\" side=\"left\" fill=\"currentColor\" text-anchor=\"middle\">nsubj</textPath>\n",
       "    </text>\n",
       "    <path class=\"displacy-arrowhead\" d=\"M70,91.5 L62,79.5 78,79.5\" fill=\"currentColor\"/>\n",
       "</g>\n",
       "\n",
       "<g class=\"displacy-arrow\">\n",
       "    <path class=\"displacy-arc\" id=\"arrow-120d649de3ef427c960017c08c341d9e-0-1\" stroke-width=\"2px\" d=\"M245,89.5 C245,2.0 400.0,2.0 400.0,89.5\" fill=\"none\" stroke=\"currentColor\"/>\n",
       "    <text dy=\"1.25em\" style=\"font-size: 0.8em; letter-spacing: 1px\">\n",
       "        <textPath xlink:href=\"#arrow-120d649de3ef427c960017c08c341d9e-0-1\" class=\"displacy-label\" startOffset=\"50%\" side=\"left\" fill=\"currentColor\" text-anchor=\"middle\">xcomp</textPath>\n",
       "    </text>\n",
       "    <path class=\"displacy-arrowhead\" d=\"M400.0,91.5 L408.0,79.5 392.0,79.5\" fill=\"currentColor\"/>\n",
       "</g>\n",
       "\n",
       "<g class=\"displacy-arrow\">\n",
       "    <path class=\"displacy-arc\" id=\"arrow-120d649de3ef427c960017c08c341d9e-0-2\" stroke-width=\"2px\" d=\"M420,89.5 C420,2.0 575.0,2.0 575.0,89.5\" fill=\"none\" stroke=\"currentColor\"/>\n",
       "    <text dy=\"1.25em\" style=\"font-size: 0.8em; letter-spacing: 1px\">\n",
       "        <textPath xlink:href=\"#arrow-120d649de3ef427c960017c08c341d9e-0-2\" class=\"displacy-label\" startOffset=\"50%\" side=\"left\" fill=\"currentColor\" text-anchor=\"middle\">dobj</textPath>\n",
       "    </text>\n",
       "    <path class=\"displacy-arrowhead\" d=\"M575.0,91.5 L583.0,79.5 567.0,79.5\" fill=\"currentColor\"/>\n",
       "</g>\n",
       "</svg></span>"
      ],
      "text/plain": [
       "<IPython.core.display.HTML object>"
      ]
     },
     "metadata": {},
     "output_type": "display_data"
    }
   ],
   "source": [
    "from spacy import displacy\n",
    "displacy.render(doc2, style=\"dep\") "
   ]
  },
  {
   "cell_type": "markdown",
   "id": "cfb8644c-b50c-47b7-97af-892953f78e8f",
   "metadata": {},
   "source": [
    "###### displacy styles:\n",
    "dep: This style visualizes the syntactic dependencies between words in the form of arrows connecting the words. It helps in understanding the grammatical structure of sentences.\n",
    "\n",
    "ent: This style highlights named entities in the text, such as persons, organizations, locations, etc., with different colors for each entity type."
   ]
  },
  {
   "cell_type": "code",
   "execution_count": 72,
   "id": "1ec76e1a-1f79-4798-bf7c-0297b0f216e2",
   "metadata": {},
   "outputs": [
    {
     "data": {
      "text/html": [
       "<span class=\"tex2jax_ignore\"><div class=\"entities\" style=\"line-height: 2.5; direction: ltr\">\n",
       "<mark class=\"entity\" style=\"background: #aa9cfc; padding: 0.45em 0.6em; margin: 0 0.25em; line-height: 1; border-radius: 0.35em;\">\n",
       "    Mike\n",
       "    <span style=\"font-size: 0.8em; font-weight: bold; line-height: 1; border-radius: 0.35em; vertical-align: middle; margin-left: 0.5rem\">PERSON</span>\n",
       "</mark>\n",
       " enjoys playing football.</div></span>"
      ],
      "text/plain": [
       "<IPython.core.display.HTML object>"
      ]
     },
     "metadata": {},
     "output_type": "display_data"
    }
   ],
   "source": [
    "from spacy import displacy\n",
    "displacy.render(doc2, style=\"ent\") "
   ]
  },
  {
   "cell_type": "code",
   "execution_count": null,
   "id": "0ca6f36d-efa2-4c13-b0ea-0532ac1bf917",
   "metadata": {},
   "outputs": [],
   "source": []
  }
 ],
 "metadata": {
  "kernelspec": {
   "display_name": "Python 3 (ipykernel)",
   "language": "python",
   "name": "python3"
  },
  "language_info": {
   "codemirror_mode": {
    "name": "ipython",
    "version": 3
   },
   "file_extension": ".py",
   "mimetype": "text/x-python",
   "name": "python",
   "nbconvert_exporter": "python",
   "pygments_lexer": "ipython3",
   "version": "3.12.2"
  }
 },
 "nbformat": 4,
 "nbformat_minor": 5
}
